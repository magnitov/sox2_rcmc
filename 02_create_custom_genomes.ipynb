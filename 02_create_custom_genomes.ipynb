{
 "cells": [
  {
   "cell_type": "code",
   "execution_count": 1,
   "id": "cecff7b4-50b8-4c5f-b26f-11fe11831b97",
   "metadata": {},
   "outputs": [],
   "source": [
    "import pandas as pd\n",
    "import numpy as np\n",
    "from Bio import SeqIO\n",
    "from Bio.Seq import Seq\n",
    "from Bio.SeqRecord import SeqRecord"
   ]
  },
  {
   "cell_type": "code",
   "execution_count": 2,
   "id": "c2f6948c-2fc0-4ecd-8f26-aa7dfb70f433",
   "metadata": {},
   "outputs": [],
   "source": [
    "genome_mm10, genome_129_CAST = {}, {}\n",
    "\n",
    "for record in SeqIO.parse('/DATA/projects/bvs_alleles/genomes/Mus_musculus.GRCm38.dna_sm.toplevel.fa', 'fasta'):\n",
    "    genome_mm10[record.id] = str(record.seq)\n",
    "    \n",
    "for record in SeqIO.parse('/DATA/projects/bvs_alleles/GRCm38_129_CAST_snpsonly.fa', 'fasta'):\n",
    "    genome_129_CAST[record.id] = str(record.seq)"
   ]
  },
  {
   "cell_type": "code",
   "execution_count": 3,
   "id": "142e8f0e-aa7e-423a-9fa2-93e88e393a57",
   "metadata": {},
   "outputs": [],
   "source": [
    "def extract_sequence_for_region(genome, region):\n",
    "    if region[1] == '':\n",
    "        return(str(genome[region[0].replace('chr', '')][:int(region[2])]))\n",
    "    elif region[2] == '':\n",
    "        return(str(genome[region[0].replace('chr', '')][int(region[1]):]))\n",
    "    else:\n",
    "        return(str(genome[region[0].replace('chr', '')][int(region[1]):int(region[2])]))\n",
    "\n",
    "def split_regions(region):\n",
    "    return([region.split(':')[0], region.split(':')[1].split('-')[0], region.split(':')[1].split('-')[1]])\n",
    "\n",
    "def get_chrom_sizes(genome_for_output):\n",
    "    chroms, sizes = [], []\n",
    "    for record in genome_for_output:\n",
    "        chroms.append(record.id)\n",
    "        sizes.append(len(str(record.seq)))\n",
    "    return(pd.DataFrame({'chroms': chroms, 'sizes': sizes}))"
   ]
  },
  {
   "cell_type": "markdown",
   "id": "e2522fcb-1112-450b-89f0-17f7c70e4455",
   "metadata": {},
   "source": [
    "# Find the genomic coordinates of edits"
   ]
  },
  {
   "cell_type": "markdown",
   "id": "1486f87f-8565-4af4-8a05-947a5c8931d8",
   "metadata": {},
   "source": [
    "### Deternime coordinates of eGFP/mCherry insertions"
   ]
  },
  {
   "cell_type": "code",
   "execution_count": 4,
   "id": "9ebfbcf4-da5c-4824-8c0c-27e1280365d8",
   "metadata": {},
   "outputs": [],
   "source": [
    "sox2_fp_left_flank = 'chr3_129:34651172-34651372'\n",
    "sox2_fp_right_flank = 'chr3_129:34651375-34651575'\n",
    "sox2_fp_excision = 'chr3_129:34651372-34651375'\n",
    "\n",
    "sox2_egfp = str(list(SeqIO.parse(\"/DATA/projects/bvs_alleles/sox2_rcmc_custom/cell_lines_overview/fasta/01_Sox2_GFP_CAST_allele.fa\", \"fasta\"))[0].seq)\n",
    "sox2_mcherry = str(list(SeqIO.parse(\"/DATA/projects/bvs_alleles/sox2_rcmc_custom/cell_lines_overview/fasta/01_Sox2_mCherry_129S1_allele.fa\", \"fasta\"))[0].seq)"
   ]
  },
  {
   "cell_type": "markdown",
   "id": "46224aea-78c4-4c2d-9d6b-0ef1742fdae5",
   "metadata": {},
   "source": [
    "### Determine coordinates for -116kb LP insertion\n",
    "* Sox2 Promoter only\n",
    "* No insert"
   ]
  },
  {
   "cell_type": "code",
   "execution_count": 5,
   "id": "76c684b9-17fd-415e-aa2e-42e544fd4d56",
   "metadata": {},
   "outputs": [],
   "source": [
    "landing_pad_116kb_left_flank = 'chr3_129:34643482-34644035'\n",
    "landing_pad_116kb_right_flank = 'chr3_129:34644035-34644328'\n",
    "\n",
    "landing_pad_116kb_insert_coord = 34644035\n",
    "landing_pad_116kb_sox2p = str(list(SeqIO.parse(\"/DATA/projects/bvs_alleles/sox2_rcmc_custom/cell_lines_overview/fasta/02_LP-116kb_Sox2P.fa\", \"fasta\"))[0].seq)\n",
    "landing_pad_116kb_nans = 'N'*len(landing_pad_116kb_sox2p)"
   ]
  },
  {
   "cell_type": "markdown",
   "id": "c1b783fd-f010-44dc-8986-1346954a62b7",
   "metadata": {},
   "source": [
    "### Determine coordinates for -161kb LP insertion\n",
    "* Sox2 Promoter + CDS\n",
    "* Sox2 Promoter only\n",
    "* No insert"
   ]
  },
  {
   "cell_type": "code",
   "execution_count": 6,
   "id": "1d64de5a-9766-4b57-9546-b98bc028452a",
   "metadata": {},
   "outputs": [],
   "source": [
    "landing_pad_161kb_left_flank = 'chr3_129:34598230-34598480'\n",
    "landing_pad_161kb_right_flank = 'chr3_129:34598480-34598729'\n",
    "\n",
    "landing_pad_161kb_insert_coord = 34598480\n",
    "landing_pad_161kb_sox2p_cds = str(list(SeqIO.parse(\"/DATA/projects/bvs_alleles/sox2_rcmc_custom/cell_lines_overview/fasta/03_LP-161kb_Sox2P_CDS.fa\", \"fasta\"))[0].seq)\n",
    "landing_pad_161kb_sox2p = str(list(SeqIO.parse(\"/DATA/projects/bvs_alleles/sox2_rcmc_custom/cell_lines_overview/fasta/03_LP-161kb_Sox2P.fa\", \"fasta\"))[0].seq)\n",
    "landing_pad_161kb_nans = 'N'*len(landing_pad_161kb_sox2p)"
   ]
  },
  {
   "cell_type": "markdown",
   "id": "6578252b-750a-492f-ba78-a8a9ecc265e8",
   "metadata": {},
   "source": [
    "### Determine coordinates for Sox2 deletion"
   ]
  },
  {
   "cell_type": "code",
   "execution_count": 7,
   "id": "e45ae3e5-c580-4794-bc09-af6764d0f751",
   "metadata": {},
   "outputs": [],
   "source": [
    "deletion_left_flank = 'chr3_129:34646645-34647660'\n",
    "deletion_right_flank = 'chr3_129:34652613-34653611'\n",
    "deletion_coordinates = 'chr3_129:34647660-34652613'\n",
    "sox2_deletion = 'N'*(len(sox2_mcherry) + 4950)"
   ]
  },
  {
   "cell_type": "markdown",
   "id": "ffd35350-4d35-4fe7-8d61-454ac0ddc7aa",
   "metadata": {
    "tags": []
   },
   "source": [
    "# Construct custom genomes\n",
    "\n",
    "1. F121/9 GFP+/mCh+ = CM1846\n",
    "2. LP-116kb_Sox2P = CM2167\n",
    "3. LP-116kb_Sox2P_mChDel = CM2267\n",
    "4. LP-161kb_Sox2P = CM2094  \n",
    "5. LP-161kb_Sox2P_mChDel = CM2266\n",
    "6. LP-161kb_Sox2P_CDS_mChDel = CM2291"
   ]
  },
  {
   "cell_type": "markdown",
   "id": "7a1b960d-200c-4f5f-979d-5adedb478690",
   "metadata": {
    "tags": []
   },
   "source": [
    "### Cell line 1: F121/9 GFP+/mCh+ (CM1846)"
   ]
  },
  {
   "cell_type": "code",
   "execution_count": 249,
   "id": "27ddfbc0-a3f6-427e-98c8-ce603fba5778",
   "metadata": {},
   "outputs": [],
   "source": [
    "genome_129_CAST = {}\n",
    "\n",
    "for record in SeqIO.parse('/DATA/projects/bvs_alleles/GRCm38_129_CAST_snpsonly.fa', 'fasta'):\n",
    "    genome_129_CAST[record.id] = str(record.seq)"
   ]
  },
  {
   "cell_type": "code",
   "execution_count": 250,
   "id": "d10e0cb5-d3bd-4853-8c06-0db11c38df0a",
   "metadata": {},
   "outputs": [],
   "source": [
    "seq_before_lp161_129 = extract_sequence_for_region(genome_129_CAST, split_regions('chr3_129:-34598480'))\n",
    "seq_lp161_129 = landing_pad_161kb_nans\n",
    "seq_between_lp161_lp116_129 = extract_sequence_for_region(genome_129_CAST, split_regions('chr3_129:34598480-34644035'))\n",
    "seq_lp116_129 = landing_pad_116kb_nans\n",
    "seq_between_lp116_mcherry_129 = extract_sequence_for_region(genome_129_CAST, split_regions('chr3_129:34644035-34651372'))\n",
    "seq_mcherry_129 = sox2_mcherry\n",
    "seq_after_mcherry_129 = extract_sequence_for_region(genome_129_CAST, split_regions('chr3_129:34651375-'))\n",
    "\n",
    "custom_chr3_129 = [seq_before_lp161_129, seq_lp161_129, seq_between_lp161_lp116_129, seq_lp116_129, \n",
    "                   seq_between_lp116_mcherry_129, seq_mcherry_129, seq_after_mcherry_129]\n",
    "custom_chr3_129 = ''.join(custom_chr3_129)"
   ]
  },
  {
   "cell_type": "code",
   "execution_count": 251,
   "id": "ca355aae-2b40-4393-8752-62d7125a4b4e",
   "metadata": {},
   "outputs": [],
   "source": [
    "genome_129_CAST['3_129'] = custom_chr3_129"
   ]
  },
  {
   "cell_type": "code",
   "execution_count": 252,
   "id": "4384d9b5-43b5-448a-bf09-55cd984a94cd",
   "metadata": {},
   "outputs": [],
   "source": [
    "seq_before_lp161_CAST = extract_sequence_for_region(genome_129_CAST, split_regions('chr3_CAST:-34598480'))\n",
    "seq_lp161_CAST = landing_pad_161kb_nans\n",
    "seq_between_lp161_lp116_CAST = extract_sequence_for_region(genome_129_CAST, split_regions('chr3_CAST:34598480-34644035'))\n",
    "seq_lp116_CAST = landing_pad_116kb_nans\n",
    "seq_between_lp116_egfp_CAST = extract_sequence_for_region(genome_129_CAST, split_regions('chr3_CAST:34644035-34651372'))\n",
    "seq_egfp_CAST = sox2_egfp\n",
    "seq_after_egfp_CAST = extract_sequence_for_region(genome_129_CAST, split_regions('chr3_CAST:34651375-'))\n",
    "\n",
    "custom_chr3_CAST = [seq_before_lp161_CAST, seq_lp161_CAST, seq_between_lp161_lp116_CAST, seq_lp116_CAST, \n",
    "                   seq_between_lp116_egfp_CAST, seq_egfp_CAST, seq_after_egfp_CAST]\n",
    "custom_chr3_CAST = ''.join(custom_chr3_CAST)"
   ]
  },
  {
   "cell_type": "code",
   "execution_count": 253,
   "id": "132e8582-633c-4df1-9c33-750aa7ed060d",
   "metadata": {},
   "outputs": [],
   "source": [
    "genome_129_CAST['3_CAST'] = custom_chr3_CAST"
   ]
  },
  {
   "cell_type": "code",
   "execution_count": 255,
   "id": "524f582d-ca86-4fe4-a945-ec644f24b7f8",
   "metadata": {},
   "outputs": [],
   "source": [
    "genome_129_CAST_for_output = [SeqRecord(Seq(sequence), id=key, description=\"\") for key, sequence in genome_129_CAST.items()]\n",
    "\n",
    "with open('/DATA/projects/bvs_alleles/sox2_rcmc/custom_genomes/CM1846_129_CAST_custom.fa', 'w') as handle:\n",
    "    SeqIO.write(genome_129_CAST_for_output, handle, 'fasta')"
   ]
  },
  {
   "cell_type": "markdown",
   "id": "b3b6314c-8d22-4eb6-913e-b3456169cca7",
   "metadata": {
    "tags": []
   },
   "source": [
    "### Cell line 2: LP-116kb_Sox2P (CM2167)"
   ]
  },
  {
   "cell_type": "code",
   "execution_count": 256,
   "id": "7fa01332-8777-48dd-b918-3e713784df39",
   "metadata": {},
   "outputs": [],
   "source": [
    "genome_129_CAST = {}\n",
    "\n",
    "for record in SeqIO.parse('/DATA/projects/bvs_alleles/GRCm38_129_CAST_snpsonly.fa', 'fasta'):\n",
    "    genome_129_CAST[record.id] = str(record.seq)"
   ]
  },
  {
   "cell_type": "code",
   "execution_count": 257,
   "id": "0fcbdc12-0483-4e8d-9a6d-7d3085d0ad42",
   "metadata": {},
   "outputs": [],
   "source": [
    "seq_before_lp161_129 = extract_sequence_for_region(genome_129_CAST, split_regions('chr3_129:-34598480'))\n",
    "seq_lp161_129 = landing_pad_161kb_nans\n",
    "seq_between_lp161_lp116_129 = extract_sequence_for_region(genome_129_CAST, split_regions('chr3_129:34598480-34644035'))\n",
    "seq_lp116_129 = landing_pad_116kb_sox2p\n",
    "seq_between_lp116_mcherry_129 = extract_sequence_for_region(genome_129_CAST, split_regions('chr3_129:34644035-34651372'))\n",
    "seq_mcherry_129 = sox2_mcherry\n",
    "seq_after_mcherry_129 = extract_sequence_for_region(genome_129_CAST, split_regions('chr3_129:34651375-'))\n",
    "\n",
    "custom_chr3_129 = [seq_before_lp161_129, seq_lp161_129, seq_between_lp161_lp116_129, seq_lp116_129, \n",
    "                   seq_between_lp116_mcherry_129, seq_mcherry_129, seq_after_mcherry_129]\n",
    "custom_chr3_129 = ''.join(custom_chr3_129)"
   ]
  },
  {
   "cell_type": "code",
   "execution_count": 258,
   "id": "3292a4a7-73b9-43e7-bddf-82db6117f443",
   "metadata": {},
   "outputs": [],
   "source": [
    "genome_129_CAST['3_129'] = custom_chr3_129"
   ]
  },
  {
   "cell_type": "code",
   "execution_count": 259,
   "id": "f693b1b5-5f24-4124-829b-5fecffc9fd87",
   "metadata": {},
   "outputs": [],
   "source": [
    "seq_before_lp161_CAST = extract_sequence_for_region(genome_129_CAST, split_regions('chr3_CAST:-34598480'))\n",
    "seq_lp161_CAST = landing_pad_161kb_nans\n",
    "seq_between_lp161_lp116_CAST = extract_sequence_for_region(genome_129_CAST, split_regions('chr3_CAST:34598480-34644035'))\n",
    "seq_lp116_CAST = landing_pad_116kb_nans\n",
    "seq_between_lp116_egfp_CAST = extract_sequence_for_region(genome_129_CAST, split_regions('chr3_CAST:34644035-34651372'))\n",
    "seq_egfp_CAST = sox2_egfp\n",
    "seq_after_egfp_CAST = extract_sequence_for_region(genome_129_CAST, split_regions('chr3_CAST:34651375-'))\n",
    "\n",
    "custom_chr3_CAST = [seq_before_lp161_CAST, seq_lp161_CAST, seq_between_lp161_lp116_CAST, seq_lp116_CAST, \n",
    "                   seq_between_lp116_egfp_CAST, seq_egfp_CAST, seq_after_egfp_CAST]\n",
    "custom_chr3_CAST = ''.join(custom_chr3_CAST)"
   ]
  },
  {
   "cell_type": "code",
   "execution_count": 260,
   "id": "381e024a-ddd0-4b35-a708-bc85d893b3f4",
   "metadata": {},
   "outputs": [],
   "source": [
    "genome_129_CAST['3_CAST'] = custom_chr3_CAST"
   ]
  },
  {
   "cell_type": "code",
   "execution_count": 262,
   "id": "02e81985-8a15-4b18-8652-00a6d42ca688",
   "metadata": {},
   "outputs": [],
   "source": [
    "genome_129_CAST_for_output = [SeqRecord(Seq(sequence), id=key, description=\"\") for key, sequence in genome_129_CAST.items()]\n",
    "\n",
    "with open('/DATA/projects/bvs_alleles/sox2_rcmc/custom_genomes/CM2167_129_CAST_custom.fa', 'w') as handle:\n",
    "    SeqIO.write(genome_129_CAST_for_output, handle, 'fasta')"
   ]
  },
  {
   "cell_type": "markdown",
   "id": "12d8d9d7-6ea1-4dc1-b7c3-2ad90cc265a1",
   "metadata": {
    "tags": []
   },
   "source": [
    "### Cell line 3: LP-116kb_Sox2P_mChDel (CM2267)"
   ]
  },
  {
   "cell_type": "code",
   "execution_count": 279,
   "id": "f2dba9ca-6581-4758-9587-691d522327f1",
   "metadata": {},
   "outputs": [],
   "source": [
    "genome_129_CAST = {}\n",
    "\n",
    "for record in SeqIO.parse('/DATA/projects/bvs_alleles/GRCm38_129_CAST_snpsonly.fa', 'fasta'):\n",
    "    genome_129_CAST[record.id] = str(record.seq)"
   ]
  },
  {
   "cell_type": "code",
   "execution_count": 280,
   "id": "6fc31bd5-7f01-48ad-bbfb-8dcc48f198de",
   "metadata": {},
   "outputs": [],
   "source": [
    "seq_before_lp161_129 = extract_sequence_for_region(genome_129_CAST, split_regions('chr3_129:-34598480'))\n",
    "seq_lp161_129 = landing_pad_161kb_nans\n",
    "seq_between_lp161_lp116_129 = extract_sequence_for_region(genome_129_CAST, split_regions('chr3_129:34598480-34644035'))\n",
    "seq_lp116_129 = landing_pad_116kb_sox2p\n",
    "seq_between_lp116_sox2_deletion_129 = extract_sequence_for_region(genome_129_CAST, split_regions('chr3_129:34644035-34647660'))\n",
    "seq_sox2_deletion_129 = sox2_deletion\n",
    "seq_after_sox2_deletion_129 = extract_sequence_for_region(genome_129_CAST, split_regions('chr3_129:34652613-'))\n",
    "\n",
    "custom_chr3_129 = [seq_before_lp161_129, seq_lp161_129, seq_between_lp161_lp116_129, seq_lp116_129, \n",
    "                   seq_between_lp116_sox2_deletion_129, seq_sox2_deletion_129, seq_after_sox2_deletion_129]\n",
    "custom_chr3_129 = ''.join(custom_chr3_129)"
   ]
  },
  {
   "cell_type": "code",
   "execution_count": 281,
   "id": "3523b73e-2acf-4f23-b314-be8fde2d87f4",
   "metadata": {},
   "outputs": [],
   "source": [
    "genome_129_CAST['3_129'] = custom_chr3_129"
   ]
  },
  {
   "cell_type": "code",
   "execution_count": 282,
   "id": "184c6daf-3870-4fe0-8e0b-09e9fa2c3805",
   "metadata": {},
   "outputs": [],
   "source": [
    "seq_before_lp161_CAST = extract_sequence_for_region(genome_129_CAST, split_regions('chr3_CAST:-34598480'))\n",
    "seq_lp161_CAST = landing_pad_161kb_nans\n",
    "seq_between_lp161_lp116_CAST = extract_sequence_for_region(genome_129_CAST, split_regions('chr3_CAST:34598480-34644035'))\n",
    "seq_lp116_CAST = landing_pad_116kb_nans\n",
    "seq_between_lp116_egfp_CAST = extract_sequence_for_region(genome_129_CAST, split_regions('chr3_CAST:34644035-34651372'))\n",
    "seq_egfp_CAST = sox2_egfp\n",
    "seq_after_egfp_CAST = extract_sequence_for_region(genome_129_CAST, split_regions('chr3_CAST:34651375-'))\n",
    "\n",
    "custom_chr3_CAST = [seq_before_lp161_CAST, seq_lp161_CAST, seq_between_lp161_lp116_CAST, seq_lp116_CAST, \n",
    "                   seq_between_lp116_egfp_CAST, seq_egfp_CAST, seq_after_egfp_CAST]\n",
    "custom_chr3_CAST = ''.join(custom_chr3_CAST)"
   ]
  },
  {
   "cell_type": "code",
   "execution_count": 283,
   "id": "e15fdb46-cf63-496b-8a3a-5ae75fd54d61",
   "metadata": {},
   "outputs": [],
   "source": [
    "genome_129_CAST['3_CAST'] = custom_chr3_CAST"
   ]
  },
  {
   "cell_type": "code",
   "execution_count": 285,
   "id": "ef3a3381-eda6-4b96-8e98-b5cde8be3ff7",
   "metadata": {},
   "outputs": [],
   "source": [
    "genome_129_CAST_for_output = [SeqRecord(Seq(sequence), id=key, description=\"\") for key, sequence in genome_129_CAST.items()]\n",
    "\n",
    "with open('/DATA/projects/bvs_alleles/sox2_rcmc/custom_genomes/CM2267_129_CAST_custom.fa', 'w') as handle:\n",
    "    SeqIO.write(genome_129_CAST_for_output, handle, 'fasta')"
   ]
  },
  {
   "cell_type": "markdown",
   "id": "6185c8a4-e05e-4935-8741-0a44ce8f1b6c",
   "metadata": {
    "tags": []
   },
   "source": [
    "### Cell line 4: LP-161kb_Sox2P (CM2094)  "
   ]
  },
  {
   "cell_type": "code",
   "execution_count": 286,
   "id": "e0ecb47e-9a26-45aa-ab90-161d03b58c28",
   "metadata": {},
   "outputs": [],
   "source": [
    "genome_129_CAST = {}\n",
    "\n",
    "for record in SeqIO.parse('/DATA/projects/bvs_alleles/GRCm38_129_CAST_snpsonly.fa', 'fasta'):\n",
    "    genome_129_CAST[record.id] = str(record.seq)"
   ]
  },
  {
   "cell_type": "code",
   "execution_count": 287,
   "id": "0a4a21d6-b1dc-47b1-8ab9-4ed90934b99f",
   "metadata": {},
   "outputs": [],
   "source": [
    "seq_before_lp161_129 = extract_sequence_for_region(genome_129_CAST, split_regions('chr3_129:-34598480'))\n",
    "seq_lp161_129 = landing_pad_161kb_sox2p\n",
    "seq_between_lp161_lp116_129 = extract_sequence_for_region(genome_129_CAST, split_regions('chr3_129:34598480-34644035'))\n",
    "seq_lp116_129 = landing_pad_116kb_nans\n",
    "seq_between_lp116_mcherry_129 = extract_sequence_for_region(genome_129_CAST, split_regions('chr3_129:34644035-34651372'))\n",
    "seq_mcherry_129 = sox2_mcherry\n",
    "seq_after_mcherry_129 = extract_sequence_for_region(genome_129_CAST, split_regions('chr3_129:34651375-'))\n",
    "\n",
    "custom_chr3_129 = [seq_before_lp161_129, seq_lp161_129, seq_between_lp161_lp116_129, seq_lp116_129, \n",
    "                   seq_between_lp116_mcherry_129, seq_mcherry_129, seq_after_mcherry_129]\n",
    "custom_chr3_129 = ''.join(custom_chr3_129)"
   ]
  },
  {
   "cell_type": "code",
   "execution_count": 288,
   "id": "e5a3b36d-9ed1-4037-ab39-8a6f06127f32",
   "metadata": {},
   "outputs": [],
   "source": [
    "genome_129_CAST['3_129'] = custom_chr3_129"
   ]
  },
  {
   "cell_type": "code",
   "execution_count": 289,
   "id": "b91324a7-b691-4e7e-aaf3-789c40c98ce6",
   "metadata": {},
   "outputs": [],
   "source": [
    "seq_before_lp161_CAST = extract_sequence_for_region(genome_129_CAST, split_regions('chr3_CAST:-34598480'))\n",
    "seq_lp161_CAST = landing_pad_161kb_nans\n",
    "seq_between_lp161_lp116_CAST = extract_sequence_for_region(genome_129_CAST, split_regions('chr3_CAST:34598480-34644035'))\n",
    "seq_lp116_CAST = landing_pad_116kb_nans\n",
    "seq_between_lp116_egfp_CAST = extract_sequence_for_region(genome_129_CAST, split_regions('chr3_CAST:34644035-34651372'))\n",
    "seq_egfp_CAST = sox2_egfp\n",
    "seq_after_egfp_CAST = extract_sequence_for_region(genome_129_CAST, split_regions('chr3_CAST:34651375-'))\n",
    "\n",
    "custom_chr3_CAST = [seq_before_lp161_CAST, seq_lp161_CAST, seq_between_lp161_lp116_CAST, seq_lp116_CAST, \n",
    "                   seq_between_lp116_egfp_CAST, seq_egfp_CAST, seq_after_egfp_CAST]\n",
    "custom_chr3_CAST = ''.join(custom_chr3_CAST)"
   ]
  },
  {
   "cell_type": "code",
   "execution_count": 290,
   "id": "314bc996-1787-4e8e-9ca7-c8dff75b067c",
   "metadata": {},
   "outputs": [],
   "source": [
    "genome_129_CAST['3_CAST'] = custom_chr3_CAST"
   ]
  },
  {
   "cell_type": "code",
   "execution_count": 292,
   "id": "02f2c11a-8d6e-41f1-8fce-08a19cf033fd",
   "metadata": {},
   "outputs": [],
   "source": [
    "genome_129_CAST_for_output = [SeqRecord(Seq(sequence), id=key, description=\"\") for key, sequence in genome_129_CAST.items()]\n",
    "\n",
    "with open('/DATA/projects/bvs_alleles/sox2_rcmc/custom_genomes/CM2094_129_CAST_custom.fa', 'w') as handle:\n",
    "    SeqIO.write(genome_129_CAST_for_output, handle, 'fasta')"
   ]
  },
  {
   "cell_type": "markdown",
   "id": "eac983d2-9f93-4997-bf57-2c2343e59007",
   "metadata": {
    "tags": []
   },
   "source": [
    "### Cell line 5: LP-161kb_Sox2P_mChDel (CM2266)"
   ]
  },
  {
   "cell_type": "code",
   "execution_count": 304,
   "id": "b9bc172f-bd31-4505-a328-319b22b16c1d",
   "metadata": {},
   "outputs": [],
   "source": [
    "genome_129_CAST = {}\n",
    "\n",
    "for record in SeqIO.parse('/DATA/projects/bvs_alleles/GRCm38_129_CAST_snpsonly.fa', 'fasta'):\n",
    "    genome_129_CAST[record.id] = str(record.seq)"
   ]
  },
  {
   "cell_type": "code",
   "execution_count": 305,
   "id": "c9c6d45b-1287-46ab-80e2-f17ee1e48b2d",
   "metadata": {},
   "outputs": [],
   "source": [
    "seq_before_lp161_129 = extract_sequence_for_region(genome_129_CAST, split_regions('chr3_129:-34598480'))\n",
    "seq_lp161_129 = landing_pad_161kb_sox2p\n",
    "seq_between_lp161_lp116_129 = extract_sequence_for_region(genome_129_CAST, split_regions('chr3_129:34598480-34644035'))\n",
    "seq_lp116_129 = landing_pad_116kb_nans\n",
    "seq_between_lp116_sox2_deletion_129 = extract_sequence_for_region(genome_129_CAST, split_regions('chr3_129:34644035-34647660'))\n",
    "seq_sox2_deletion_129 = sox2_deletion\n",
    "seq_after_sox2_deletion_129 = extract_sequence_for_region(genome_129_CAST, split_regions('chr3_129:34652613-'))\n",
    "\n",
    "custom_chr3_129 = [seq_before_lp161_129, seq_lp161_129, seq_between_lp161_lp116_129, seq_lp116_129, \n",
    "                   seq_between_lp116_sox2_deletion_129, seq_sox2_deletion_129, seq_after_sox2_deletion_129]\n",
    "custom_chr3_129 = ''.join(custom_chr3_129)"
   ]
  },
  {
   "cell_type": "code",
   "execution_count": 306,
   "id": "57b5da01-1ce0-42c9-8de7-927a9d195ac7",
   "metadata": {},
   "outputs": [],
   "source": [
    "genome_129_CAST['3_129'] = custom_chr3_129"
   ]
  },
  {
   "cell_type": "code",
   "execution_count": 307,
   "id": "888c8542-5417-405a-a021-7cc851e446fb",
   "metadata": {},
   "outputs": [],
   "source": [
    "seq_before_lp161_CAST = extract_sequence_for_region(genome_129_CAST, split_regions('chr3_CAST:-34598480'))\n",
    "seq_lp161_CAST = landing_pad_161kb_nans\n",
    "seq_between_lp161_lp116_CAST = extract_sequence_for_region(genome_129_CAST, split_regions('chr3_CAST:34598480-34644035'))\n",
    "seq_lp116_CAST = landing_pad_116kb_nans\n",
    "seq_between_lp116_egfp_CAST = extract_sequence_for_region(genome_129_CAST, split_regions('chr3_CAST:34644035-34651372'))\n",
    "seq_egfp_CAST = sox2_egfp\n",
    "seq_after_egfp_CAST = extract_sequence_for_region(genome_129_CAST, split_regions('chr3_CAST:34651375-'))\n",
    "\n",
    "custom_chr3_CAST = [seq_before_lp161_CAST, seq_lp161_CAST, seq_between_lp161_lp116_CAST, seq_lp116_CAST, \n",
    "                   seq_between_lp116_egfp_CAST, seq_egfp_CAST, seq_after_egfp_CAST]\n",
    "custom_chr3_CAST = ''.join(custom_chr3_CAST)"
   ]
  },
  {
   "cell_type": "code",
   "execution_count": 308,
   "id": "07efe7bb-4d16-4a02-bac6-5707c29e51a0",
   "metadata": {},
   "outputs": [],
   "source": [
    "genome_129_CAST['3_CAST'] = custom_chr3_CAST"
   ]
  },
  {
   "cell_type": "code",
   "execution_count": 310,
   "id": "2f9eab7e-e082-455f-a08a-a802d098f3e1",
   "metadata": {},
   "outputs": [],
   "source": [
    "genome_129_CAST_for_output = [SeqRecord(Seq(sequence), id=key, description=\"\") for key, sequence in genome_129_CAST.items()]\n",
    "\n",
    "with open('/DATA/projects/bvs_alleles/sox2_rcmc/custom_genomes/CM2266_129_CAST_custom.fa', 'w') as handle:\n",
    "    SeqIO.write(genome_129_CAST_for_output, handle, 'fasta')"
   ]
  },
  {
   "cell_type": "markdown",
   "id": "552a61b8-3730-4599-8c2f-a7c32cbd7e89",
   "metadata": {
    "tags": []
   },
   "source": [
    "### Cell line 6: LP-161kb_Sox2P_CDS_mChDel (CM2291)"
   ]
  },
  {
   "cell_type": "code",
   "execution_count": 311,
   "id": "8a917227-2ea2-4c4b-8099-e8291bd43c29",
   "metadata": {},
   "outputs": [],
   "source": [
    "genome_129_CAST = {}\n",
    "\n",
    "for record in SeqIO.parse('/DATA/projects/bvs_alleles/GRCm38_129_CAST_snpsonly.fa', 'fasta'):\n",
    "    genome_129_CAST[record.id] = str(record.seq)"
   ]
  },
  {
   "cell_type": "code",
   "execution_count": 312,
   "id": "f3c04e42-961d-465c-9599-a20a5ba81058",
   "metadata": {},
   "outputs": [],
   "source": [
    "seq_before_lp161_129 = extract_sequence_for_region(genome_129_CAST, split_regions('chr3_129:-34598480'))\n",
    "seq_lp161_129 = landing_pad_161kb_sox2p_cds\n",
    "seq_between_lp161_lp116_129 = extract_sequence_for_region(genome_129_CAST, split_regions('chr3_129:34598480-34644035'))\n",
    "seq_lp116_129 = landing_pad_116kb_nans\n",
    "seq_between_lp116_sox2_deletion_129 = extract_sequence_for_region(genome_129_CAST, split_regions('chr3_129:34644035-34647660'))\n",
    "seq_sox2_deletion_129 = sox2_deletion\n",
    "seq_after_sox2_deletion_129 = extract_sequence_for_region(genome_129_CAST, split_regions('chr3_129:34652613-'))\n",
    "\n",
    "custom_chr3_129 = [seq_before_lp161_129, seq_lp161_129, seq_between_lp161_lp116_129, seq_lp116_129, \n",
    "                   seq_between_lp116_sox2_deletion_129, seq_sox2_deletion_129, seq_after_sox2_deletion_129]\n",
    "custom_chr3_129 = ''.join(custom_chr3_129)"
   ]
  },
  {
   "cell_type": "code",
   "execution_count": 313,
   "id": "d1fc8397-5249-40b0-8e75-068963df66e1",
   "metadata": {},
   "outputs": [],
   "source": [
    "genome_129_CAST['3_129'] = custom_chr3_129"
   ]
  },
  {
   "cell_type": "code",
   "execution_count": 314,
   "id": "3714a02e-812b-40a2-a7a0-165ff2fadc59",
   "metadata": {},
   "outputs": [],
   "source": [
    "seq_before_lp161_CAST = extract_sequence_for_region(genome_129_CAST, split_regions('chr3_CAST:-34598480'))\n",
    "seq_lp161_CAST = landing_pad_161kb_nans\n",
    "seq_between_lp161_lp116_CAST = extract_sequence_for_region(genome_129_CAST, split_regions('chr3_CAST:34598480-34644035'))\n",
    "seq_lp116_CAST = landing_pad_116kb_nans\n",
    "seq_between_lp116_egfp_CAST = extract_sequence_for_region(genome_129_CAST, split_regions('chr3_CAST:34644035-34651372'))\n",
    "seq_egfp_CAST = sox2_egfp\n",
    "seq_after_egfp_CAST = extract_sequence_for_region(genome_129_CAST, split_regions('chr3_CAST:34651375-'))\n",
    "\n",
    "custom_chr3_CAST = [seq_before_lp161_CAST, seq_lp161_CAST, seq_between_lp161_lp116_CAST, seq_lp116_CAST, \n",
    "                   seq_between_lp116_egfp_CAST, seq_egfp_CAST, seq_after_egfp_CAST]\n",
    "custom_chr3_CAST = ''.join(custom_chr3_CAST)"
   ]
  },
  {
   "cell_type": "code",
   "execution_count": 315,
   "id": "bef306a5-aea0-4736-b98c-8a733ee884e6",
   "metadata": {},
   "outputs": [],
   "source": [
    "genome_129_CAST['3_CAST'] = custom_chr3_CAST"
   ]
  },
  {
   "cell_type": "code",
   "execution_count": 317,
   "id": "bba2003b-2f3c-449e-b9bc-941e100db341",
   "metadata": {},
   "outputs": [],
   "source": [
    "genome_129_CAST_for_output = [SeqRecord(Seq(sequence), id=key, description=\"\") for key, sequence in genome_129_CAST.items()]\n",
    "\n",
    "with open('/DATA/projects/bvs_alleles/sox2_rcmc/custom_genomes/CM2291_129_CAST_custom.fa', 'w') as handle:\n",
    "    SeqIO.write(genome_129_CAST_for_output, handle, 'fasta')"
   ]
  },
  {
   "cell_type": "markdown",
   "id": "fbeebab9-3516-4792-86a0-d8c758e629ed",
   "metadata": {
    "tags": []
   },
   "source": [
    "# Shift coordinates of the capture regions\n",
    "\n",
    "Original coordinates from the RCMC paper:\n",
    "* Sox2 mm10 capture region: chr3:33750000-35650000\n",
    "\n",
    "New coordinates for Sox2 capture region:\n",
    "* Sox2 custom capture region: chr3:33750000-35659386\n",
    "\n",
    "New coordinates for insertions/deletions, Sox2 gene and SCR:\n",
    "* landing_pad_161kb: chr3:34598480-34603292 \n",
    "* landing_pad_161kb (CDS part): chr3_129:34601113-34602127\n",
    "* landing_pad_116kb: chr3:34648847-34652698\n",
    "* sox2_gene = chr3:34658658-34661124\n",
    "* sox2_deletion: chr3:34656323-34661999\n",
    "* SCR: chr3:34762792-34775778"
   ]
  }
 ],
 "metadata": {
  "kernelspec": {
   "display_name": "Python 3 (ipykernel)",
   "language": "python",
   "name": "python3"
  },
  "language_info": {
   "codemirror_mode": {
    "name": "ipython",
    "version": 3
   },
   "file_extension": ".py",
   "mimetype": "text/x-python",
   "name": "python",
   "nbconvert_exporter": "python",
   "pygments_lexer": "ipython3",
   "version": "3.9.12"
  }
 },
 "nbformat": 4,
 "nbformat_minor": 5
}
